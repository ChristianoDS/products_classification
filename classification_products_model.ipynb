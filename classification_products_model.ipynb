{
 "cells": [
  {
   "cell_type": "markdown",
   "metadata": {},
   "source": [
    "# 1.0 Imports"
   ]
  },
  {
   "cell_type": "code",
   "execution_count": 7,
   "metadata": {},
   "outputs": [],
   "source": [
    "from tqdm import tqdm\n",
    "from openai import OpenAI\n",
    "import pandas as pd\n",
    "import numpy as np\n",
    "from sklearn.feature_extraction.text import TfidfVectorizer\n",
    "from sklearn.metrics.pairwise import cosine_similarity\n",
    "import math\n",
    "import os\n",
    "from dotenv import load_dotenv"
   ]
  },
  {
   "cell_type": "markdown",
   "metadata": {},
   "source": [
    "# 2.0 Setting model"
   ]
  },
  {
   "cell_type": "code",
   "execution_count": 8,
   "metadata": {},
   "outputs": [],
   "source": [
    "# Load environment variables from the .env file\n",
    "load_dotenv()\n",
    "\n",
    "# Retrieve the API key from the environment variable\n",
    "openai_api_key = os.getenv(\"OPENAI_API_KEY\")"
   ]
  },
  {
   "cell_type": "markdown",
   "metadata": {},
   "source": [
    "# 3.0 Helper functions"
   ]
  },
  {
   "cell_type": "code",
   "execution_count": 9,
   "metadata": {},
   "outputs": [],
   "source": [
    "def classify_product(product_name, categories, known_examples):\n",
    "    examples = \"\\n\".join([f\"Product: {k}, Category: {v}\" for k, v in known_examples.items()])\n",
    "    prompt = f\"\"\"Here are some examples of product classifications:\n",
    "\n",
    "    {examples}\n",
    "\n",
    "    Now, classify the following product into a category.\n",
    "    Follow the step by step below:\n",
    "    1. Use ONLY the categories {', '.join(categories)} to classify.\n",
    "    2. Just provide the classification, without any explanation.\n",
    "    3. Use only the classification provided in {', '.join(categories)} to classification.\n",
    "    4. Don't create new categories.\n",
    "\n",
    "    Product: {product_name}\n",
    "    Possible categories: {', '.join(categories)}\n",
    "    Category:\"\"\"\n",
    "\n",
    "    response = client.chat.completions.create(\n",
    "        model=\"gpt-4o\",\n",
    "        messages=[\n",
    "            {\"role\": \"system\", \"content\": \"You are a helpful assistant.\"},\n",
    "            {\"role\": \"user\", \"content\": prompt}\n",
    "        ],\n",
    "        max_tokens=4096,\n",
    "        n=1,\n",
    "        stop=None,\n",
    "        temperature=0.0,\n",
    "    )\n",
    "\n",
    "    return response.choices[0].message.content.strip()\n",
    "\n",
    "# Function to classify products in a DataFrame\n",
    "def classify_dataframe_products(df, product_column, batch_size=600):\n",
    "    predictions = []\n",
    "    for i in tqdm(range(0, len(df), batch_size), desc=\"Classifying products\"):\n",
    "        batch = df[product_column].iloc[i:i+batch_size]\n",
    "        batch_predictions = [classify_product(product, categories, known_examples) for product in batch]\n",
    "        predictions.extend(batch_predictions)\n",
    "    return predictions\n",
    "\n",
    "# Function to calculate similarity using cosine similarity\n",
    "def calculate_similarity(row, vectorizer):\n",
    "    vectors = vectorizer.transform([row['categoryName'], row['categoria predita']])\n",
    "    return cosine_similarity(vectors[0:1], vectors[1:2])[0][0]"
   ]
  },
  {
   "cell_type": "markdown",
   "metadata": {},
   "source": [
    "# 4.0 Load dataset"
   ]
  },
  {
   "cell_type": "code",
   "execution_count": 10,
   "metadata": {},
   "outputs": [],
   "source": [
    "df_raw = pd.read_csv(\"dataset/amz_br_total_products_data_processed.csv\")"
   ]
  },
  {
   "cell_type": "markdown",
   "metadata": {},
   "source": [
    "# 5.0 Cleaning NaN values"
   ]
  },
  {
   "cell_type": "code",
   "execution_count": 11,
   "metadata": {},
   "outputs": [
    {
     "data": {
      "text/plain": [
       "asin                 0\n",
       "title                0\n",
       "imgUrl               0\n",
       "productURL           0\n",
       "stars                0\n",
       "reviews              0\n",
       "price                0\n",
       "listPrice            0\n",
       "categoryName         0\n",
       "isBestSeller         0\n",
       "boughtInLastMonth    0\n",
       "dtype: int64"
      ]
     },
     "execution_count": 11,
     "metadata": {},
     "output_type": "execute_result"
    }
   ],
   "source": [
    "df_raw = df_raw.fillna('sem_informacoes')\n",
    "df_raw.isna().sum()"
   ]
  },
  {
   "cell_type": "markdown",
   "metadata": {},
   "source": [
    "# 6.0 Pic a 50 samples from dataset"
   ]
  },
  {
   "cell_type": "code",
   "execution_count": 13,
   "metadata": {},
   "outputs": [],
   "source": [
    "df = df_raw.loc[:, [\"title\", \"categoryName\"]].sample(50)\n"
   ]
  },
  {
   "cell_type": "markdown",
   "metadata": {},
   "source": [
    "# 7.0 Implementing the IA Classification Model"
   ]
  },
  {
   "cell_type": "code",
   "execution_count": null,
   "metadata": {},
   "outputs": [],
   "source": [
    "# Load your dataset with known categories\n",
    "df_known = df.head(40)\n",
    "\n",
    "# Load your dataset to classify\n",
    "df_compare = df.tail(10)\n",
    "\n",
    "# Create a dictionary from df_known\n",
    "known_examples = dict(zip(df_known['title'], df_known['categoryName']))\n",
    "\n",
    "# Get unique categories\n",
    "categories = df['categoryName'].unique().tolist()\n",
    "\n",
    "# Defying test data\n",
    "df_new_products = df_compare\n",
    "df_new_products = df_new_products.drop(('categoryName'), axis=1)\n",
    "\n",
    "# Classify the new products\n",
    "df_new_products['categoria predita'] = classify_dataframe_products(df_new_products, 'title')\n",
    "\n",
    "# Optional: If you want to merge this with any existing data\n",
    "df_final = pd.merge(df_compare.loc[:, [\"title\", \"categoryName\"]], df_new_products.loc[:, [\"categoria predita\"]], left_index=True, right_index=True, how='inner')\n",
    "df_final"
   ]
  },
  {
   "cell_type": "markdown",
   "metadata": {},
   "source": [
    "# 8.0 Validation metrics"
   ]
  },
  {
   "cell_type": "code",
   "execution_count": null,
   "metadata": {},
   "outputs": [],
   "source": [
    "# Create a TF-IDF Vectorizer\n",
    "combined_text = pd.concat([df_final['categoryName'], df_final['categoria predita']])\n",
    "vectorizer = TfidfVectorizer().fit(combined_text)\n",
    "\n",
    "# Calculate similarity\n",
    "df_final['similaridade'] = df_final.apply(lambda row: calculate_similarity(row, vectorizer), axis=1)\n",
    "\n",
    "# Calculate and print average similarity\n",
    "average_similarity = df_final['similaridade'].mean()\n",
    "print(f\"\\nAverage Similarity: {average_similarity:.2f}\")\n",
    "\n",
    "# Optional: You can also add a column to flag if the prediction is correct (assuming an exact match is required)\n",
    "df_final['validacao'] = df_final['categoryName'] == df_final['categoria predita']\n",
    "\n",
    "# Print accuracy\n",
    "accuracy = df_final['validacao'].mean()\n",
    "print(f\"Accuracy: {accuracy:.2f}\")"
   ]
  }
 ],
 "metadata": {
  "kernelspec": {
   "display_name": "venv-products_classification",
   "language": "python",
   "name": "python3"
  },
  "language_info": {
   "codemirror_mode": {
    "name": "ipython",
    "version": 3
   },
   "file_extension": ".py",
   "mimetype": "text/x-python",
   "name": "python",
   "nbconvert_exporter": "python",
   "pygments_lexer": "ipython3",
   "version": "3.11.5"
  }
 },
 "nbformat": 4,
 "nbformat_minor": 2
}
